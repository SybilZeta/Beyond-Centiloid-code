{
 "cells": [
  {
   "cell_type": "markdown",
   "metadata": {},
   "source": [
    "## Using Abeta pattern"
   ]
  },
  {
   "cell_type": "code",
   "execution_count": 2,
   "metadata": {},
   "outputs": [],
   "source": [
    "import nibabel as nib\n",
    "from nilearn.image import resample_to_img, smooth_img, resample_img, new_img_like\n",
    "import numpy as np\n",
    "from nilearn.masking import apply_mask, unmask\n",
    "from nilearn.datasets import load_mni152_brain_mask, load_mni152_brain_mask\n",
    "\n",
    "mni152 = nib.load('./example_img.nii')\n",
    "brain_wo_voi_mask = load_mni152_brain_mask()\n",
    "brain_2mm_mask = resample_to_img(brain_wo_voi_mask, mni152, interpolation='nearest')\n",
    "\n",
    "def preprocess_img(pet_img, downsample=3):\n",
    "    pet_img = smooth_img(pet_img, fwhm=8)\n",
    "    data = pet_img.get_fdata()\n",
    "    data[np.isnan(data)] = 0\n",
    "    pet_img = nib.nifti1.Nifti1Image(data, pet_img.affine, pet_img.header)\n",
    "    downsample_affine = pet_img.affine.copy()\n",
    "    downsample_affine[:3, :3] *= downsample\n",
    "    pet_img = resample_img(pet_img, target_affine=downsample_affine)\n",
    "    return pet_img\n",
    "\n",
    "def scale_intensity(X:np.array):\n",
    "    return (X - X.min(axis=1).reshape((-1, 1))) / (X.max(axis=1) - X.min(axis=1)).reshape(-1,1)\n",
    "\n",
    "def flip_image(img):\n",
    "    data = img.get_fdata()\n",
    "    data = np.flip(data, 0)\n",
    "    new_image = new_img_like(img, data)\n",
    "    return new_image\n",
    "\n",
    "def whole_brain_to_half(img, mask):\n",
    "    return [apply_mask(flip_image(img), mask), apply_mask(img, mask)]\n",
    "\n",
    "def half_to_whole_brain(half_imgs, mask):\n",
    "    return unmask(half_imgs[0], mask)+unmask(half_imgs[1], mask)"
   ]
  },
  {
   "cell_type": "code",
   "execution_count": null,
   "metadata": {},
   "outputs": [],
   "source": [
    "# if you wish to build a logistic regression model\n",
    "\n",
    "# from sklearn.linear_model import LogisticRegression\n",
    "# import numpy as np\n",
    "# from sklearn.metrics import roc_auc_score, roc_curve, auc\n",
    "\n",
    "# X = []\n",
    "# for img in images:\n",
    "#     img = preprocess_img(img, downsample=3)\n",
    "#     X.extend(whole_brain_to_half(img, brain_2mm_mask))\n",
    "# X = scale_intensity(np.array(X))\n",
    "# y = ...\n",
    "\n",
    "# lr = LogisticRegression(max_iter=50000, class_weight='balanced')\n",
    "# lr.fit(X, y)\n",
    "# print(roc_auc_score(y_test, lr.decision_function(X_test)))\n",
    "# print(classification_report(y_test, lr.predict(X_test)))"
   ]
  },
  {
   "cell_type": "code",
   "execution_count": 4,
   "metadata": {},
   "outputs": [
    {
     "data": {
      "text/plain": [
       "(array([6.10816421]), array([1]))"
      ]
     },
     "execution_count": 4,
     "metadata": {},
     "output_type": "execute_result"
    }
   ],
   "source": [
    "# to use the trained model\n",
    "# please note that pet images should be normalized first!\n",
    "\n",
    "from pathlib import Path\n",
    "\n",
    "import pickle\n",
    "with open('./LCAD_LCCN_lr_model.pkl', 'rb') as f:\n",
    "    lr = pickle.load(f)\n",
    "\n",
    "\n",
    "downsample_ratio = 3\n",
    "example_img = nib.load('./example_img.nii')\n",
    "example_img = preprocess_img(example_img, downsample_ratio)\n",
    "resampled_mask = resample_to_img(brain_2mm_mask, example_img, interpolation='nearest')\n",
    "example_img = apply_mask(example_img, resampled_mask)\n",
    "X = scale_intensity(np.array([example_img]))\n",
    "lr.decision_function(X), lr.predict(X)"
   ]
  },
  {
   "cell_type": "markdown",
   "metadata": {},
   "source": [
    "## Using DCCC to calculate Centiloid/CenTauR"
   ]
  },
  {
   "cell_type": "code",
   "execution_count": 4,
   "metadata": {},
   "outputs": [
    {
     "name": "stderr",
     "output_type": "stream",
     "text": [
      "e:\\programs\\Anaconda\\envs\\dlmed\\lib\\site-packages\\monai\\networks\\blocks\\warp.py:72: UserWarning: monai.networks.blocks.Warp: Using PyTorch native grid_sample.\n",
      "  warnings.warn(\"monai.networks.blocks.Warp: Using PyTorch native grid_sample.\")\n"
     ]
    },
    {
     "name": "stdout",
     "output_type": "stream",
     "text": [
      "58.71800503373146\n",
      "-3.142954159975064\n"
     ]
    }
   ],
   "source": [
    "from pathlib import Path\n",
    "import os\n",
    "import nibabel as nib\n",
    "import torch\n",
    "\n",
    "from evaluator import CentiloidCalculator, CenTauRCalculator\n",
    "from nets import AffineVoxelMorphONNX, RegressorModel\n",
    "from utils import DeepCascadeSpatialNormalizer\n",
    "from nets import RegressorModel, AffineVoxelMorphONNX\n",
    "from constants import RIGID_INSHAPE\n",
    "mask = nib.load(\"./templates/padded_mask.nii\")\n",
    "mask = (\n",
    "    torch.from_numpy(mask.get_fdata()).reshape((1, 1, *mask.shape))\n",
    ")\n",
    "rigid_model = RegressorModel(RIGID_INSHAPE)\n",
    "rigid_model.load_state_dict(torch.load('./data_and_models/best_RegressorModel.pth'))\n",
    "rigid_model.eval()\n",
    "affine_model = AffineVoxelMorphONNX(mask)\n",
    "affine_model.load_state_dict(torch.load('./data_and_models/best_AffineVoxelMorph.pth'))\n",
    "affine_model.eval()\n",
    "\n",
    "cl_calc = CentiloidCalculator()\n",
    "\n",
    "normalizer = DeepCascadeSpatialNormalizer(rigid_model, affine_model, 1)\n",
    "normalizer.normalize(\n",
    "    [\n",
    "        Path('./data_and_models/ED25_AV45.nii'),\n",
    "        Path('./data_and_models/YC12_AV45.nii')\n",
    "    ],\n",
    "    [\n",
    "        Path('./warped1.nii'),\n",
    "        Path('./warped2.nii')\n",
    "    ])\n",
    "# you can calibrate our calculator based on our paper, but actually the difference is very small\n",
    "print(cl_calc.calculate('./warped1.nii', 'av45')*1.05-6.98) # 378784, GT: 59.7\n",
    "print(cl_calc.calculate('./warped2.nii', 'av45')*1.05-6.98) # 462623, GT: -2.8\n",
    "os.remove('./warped1.nii')\n",
    "os.remove('./warped2.nii')"
   ]
  }
 ],
 "metadata": {
  "kernelspec": {
   "display_name": "dlmed",
   "language": "python",
   "name": "python3"
  },
  "language_info": {
   "codemirror_mode": {
    "name": "ipython",
    "version": 3
   },
   "file_extension": ".py",
   "mimetype": "text/x-python",
   "name": "python",
   "nbconvert_exporter": "python",
   "pygments_lexer": "ipython3",
   "version": "3.10.14"
  }
 },
 "nbformat": 4,
 "nbformat_minor": 2
}
