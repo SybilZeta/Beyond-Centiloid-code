{
 "cells": [
  {
   "cell_type": "markdown",
   "metadata": {},
   "source": [
    "## Using Abeta pattern"
   ]
  },
  {
   "cell_type": "code",
   "execution_count": 2,
   "metadata": {},
   "outputs": [],
   "source": [
    "import nibabel as nib\n",
    "from nilearn.image import resample_to_img, smooth_img, resample_img, new_img_like\n",
    "import numpy as np\n",
    "from nilearn.masking import apply_mask, unmask\n",
    "from nilearn.datasets import load_mni152_brain_mask, load_mni152_brain_mask\n",
    "\n",
    "mni152 = nib.load('./example_img.nii')\n",
    "brain_wo_voi_mask = load_mni152_brain_mask()\n",
    "brain_2mm_mask = resample_to_img(brain_wo_voi_mask, mni152, interpolation='nearest')\n",
    "\n",
    "def preprocess_img(pet_img, downsample=3):\n",
    "    pet_img = smooth_img(pet_img, fwhm=8)\n",
    "    data = pet_img.get_fdata()\n",
    "    data[np.isnan(data)] = 0\n",
    "    pet_img = nib.nifti1.Nifti1Image(data, pet_img.affine, pet_img.header)\n",
    "    downsample_affine = pet_img.affine.copy()\n",
    "    downsample_affine[:3, :3] *= downsample\n",
    "    pet_img = resample_img(pet_img, target_affine=downsample_affine)\n",
    "    return pet_img\n",
    "\n",
    "def scale_intensity(X:np.array):\n",
    "    return (X - X.min(axis=1).reshape((-1, 1))) / (X.max(axis=1) - X.min(axis=1)).reshape(-1,1)\n",
    "\n",
    "def flip_image(img):\n",
    "    data = img.get_fdata()\n",
    "    data = np.flip(data, 0)\n",
    "    new_image = new_img_like(img, data)\n",
    "    return new_image\n",
    "\n",
    "def whole_brain_to_half(img, mask):\n",
    "    return [apply_mask(flip_image(img), mask), apply_mask(img, mask)]\n",
    "\n",
    "def half_to_whole_brain(half_imgs, mask):\n",
    "    return unmask(half_imgs[0], mask)+unmask(half_imgs[1], mask)"
   ]
  },
  {
   "cell_type": "code",
   "execution_count": null,
   "metadata": {},
   "outputs": [],
   "source": [
    "# if you wish to build a logistic regression model\n",
    "\n",
    "# from sklearn.linear_model import LogisticRegression\n",
    "# import numpy as np\n",
    "# from sklearn.metrics import roc_auc_score, roc_curve, auc\n",
    "\n",
    "# X = []\n",
    "# for img in images:\n",
    "#     img = preprocess_img(img, downsample=3)\n",
    "#     X.extend(whole_brain_to_half(img, brain_2mm_mask))\n",
    "# X = scale_intensity(np.array(X))\n",
    "# y = ...\n",
    "\n",
    "# lr = LogisticRegression(max_iter=50000, class_weight='balanced')\n",
    "# lr.fit(X, y)\n",
    "# print(roc_auc_score(y_test, lr.decision_function(X_test)))\n",
    "# print(classification_report(y_test, lr.predict(X_test)))"
   ]
  },
  {
   "cell_type": "code",
   "execution_count": 4,
   "metadata": {},
   "outputs": [
    {
     "data": {
      "text/plain": [
       "(array([6.10816421]), array([1]))"
      ]
     },
     "execution_count": 4,
     "metadata": {},
     "output_type": "execute_result"
    }
   ],
   "source": [
    "# to use the trained model\n",
    "# please note that pet images should be normalized first!\n",
    "\n",
    "from pathlib import Path\n",
    "\n",
    "import pickle\n",
    "with open('./LCAD_LCCN_lr_model.pkl', 'rb') as f:\n",
    "    lr = pickle.load(f)\n",
    "\n",
    "\n",
    "downsample_ratio = 3\n",
    "example_img = nib.load('./example_img.nii')\n",
    "example_img = preprocess_img(example_img, downsample_ratio)\n",
    "resampled_mask = resample_to_img(brain_2mm_mask, example_img, interpolation='nearest')\n",
    "example_img = apply_mask(example_img, resampled_mask)\n",
    "X = scale_intensity(np.array([example_img]))\n",
    "lr.decision_function(X), lr.predict(X)"
   ]
  },
  {
   "cell_type": "markdown",
   "metadata": {},
   "source": [
    "## Using DCCC to calculate Centiloid"
   ]
  },
  {
   "cell_type": "code",
   "execution_count": 6,
   "metadata": {},
   "outputs": [
    {
     "name": "stderr",
     "output_type": "stream",
     "text": [
      "C:\\Users\\85926\\AppData\\Local\\Temp\\ipykernel_40332\\1661998562.py:14: FutureWarning: You are using `torch.load` with `weights_only=False` (the current default value), which uses the default pickle module implicitly. It is possible to construct malicious pickle data which will execute arbitrary code during unpickling (See https://github.com/pytorch/pytorch/blob/main/SECURITY.md#untrusted-models for more details). In a future release, the default value for `weights_only` will be flipped to `True`. This limits the functions that could be executed during unpickling. Arbitrary objects will no longer be allowed to be loaded via this mode unless they are explicitly allowlisted by the user via `torch.serialization.add_safe_globals`. We recommend you start setting `weights_only=True` for any use case where you don't have full control of the loaded file. Please open an issue on GitHub for any issues related to this experimental feature.\n",
      "  rigid_model.load_state_dict(torch.load('./Rigid.pth'))\n",
      "e:\\programs\\Anaconda\\envs\\dlmed\\lib\\site-packages\\monai\\networks\\blocks\\warp.py:72: UserWarning: monai.networks.blocks.Warp: Using PyTorch native grid_sample.\n",
      "  warnings.warn(\"monai.networks.blocks.Warp: Using PyTorch native grid_sample.\")\n",
      "C:\\Users\\85926\\AppData\\Local\\Temp\\ipykernel_40332\\1661998562.py:17: FutureWarning: You are using `torch.load` with `weights_only=False` (the current default value), which uses the default pickle module implicitly. It is possible to construct malicious pickle data which will execute arbitrary code during unpickling (See https://github.com/pytorch/pytorch/blob/main/SECURITY.md#untrusted-models for more details). In a future release, the default value for `weights_only` will be flipped to `True`. This limits the functions that could be executed during unpickling. Arbitrary objects will no longer be allowed to be loaded via this mode unless they are explicitly allowlisted by the user via `torch.serialization.add_safe_globals`. We recommend you start setting `weights_only=True` for any use case where you don't have full control of the loaded file. Please open an issue on GitHub for any issues related to this experimental feature.\n",
      "  affine_vm_model.load_state_dict(torch.load('./AffineVoxelMorph.pth'))\n"
     ]
    }
   ],
   "source": [
    "from affine_voxelmorph import AffineVoxelMorph, warp\n",
    "from rigid import RegressorModel, dl_rigid_transform\n",
    "import nibabel as nib\n",
    "import torch\n",
    "from pathlib import Path\n",
    "import pickle\n",
    "\n",
    "inshape = (1, 64, 64, 64)\n",
    "channels = (64, 64, 64, 128, 256)\n",
    "strides = (2, 2, 2, 2, 2)\n",
    "device = \"cuda\" if torch.cuda.is_available() else \"cpu\"\n",
    "rigid_model = RegressorModel(inshape, channels, strides)\n",
    "rigid_model.load_state_dict(torch.load('./Rigid.pth'))\n",
    "_ = rigid_model.to(device).eval()\n",
    "affine_vm_model = AffineVoxelMorph()\n",
    "affine_vm_model.load_state_dict(torch.load('./AffineVoxelMorph.pth'))\n",
    "_ = affine_vm_model.to(device).eval()"
   ]
  },
  {
   "cell_type": "code",
   "execution_count": 14,
   "metadata": {},
   "outputs": [
    {
     "name": "stderr",
     "output_type": "stream",
     "text": [
      "e:\\programs\\Anaconda\\envs\\dlmed\\lib\\site-packages\\monai\\networks\\blocks\\warp.py:72: UserWarning: monai.networks.blocks.Warp: Using PyTorch native grid_sample.\n",
      "  warnings.warn(\"monai.networks.blocks.Warp: Using PyTorch native grid_sample.\")\n"
     ]
    },
    {
     "data": {
      "text/plain": [
       "4.469583344459522"
      ]
     },
     "execution_count": 14,
     "metadata": {},
     "output_type": "execute_result"
    }
   ],
   "source": [
    "voi_ctx = nib.load(\"./voi_ctx_2mm.nii\")\n",
    "wc_ref = nib.load(\"./voi_WhlCbl_2mm.nii\")\n",
    "def calc_suvr(img, voi, ref):\n",
    "    img = resample_to_img(img, voi)\n",
    "    voi = apply_mask(img, voi)\n",
    "    ref = apply_mask(img, ref)\n",
    "    return voi.mean() / ref.mean()\n",
    "\n",
    "def get_centiloid(suvr, tracer):\n",
    "    if tracer == 'av45':\n",
    "        centiloid = suvr * 175.4 - 182.3\n",
    "    elif tracer == 'pib':\n",
    "        centiloid = suvr * 93.7 - 94.6\n",
    "    elif tracer == 'fbb':\n",
    "        centiloid = suvr * 153.4 - 154.9\n",
    "    elif tracer == 'fmm':\n",
    "        centiloid = suvr * 83.7 - 94.6\n",
    "    else:\n",
    "        raise NotImplementedError()\n",
    "    return centiloid\n",
    "\n",
    "rigid_img, *_ = dl_rigid_transform('./YC12_AV45.nii', rigid_model)\n",
    "nib.save(rigid_img, './rigid.nii')\n",
    "warped_img = warp('./rigid.nii', './template_pet.nii', affine_vm_model)\n",
    "pred_suvr = calc_suvr(warped_img, voi_ctx, wc_ref)\n",
    "get_centiloid(pred_suvr, 'av45')"
   ]
  },
  {
   "cell_type": "code",
   "execution_count": 17,
   "metadata": {},
   "outputs": [
    {
     "data": {
      "text/plain": [
       "71.77903392314911"
      ]
     },
     "execution_count": 17,
     "metadata": {},
     "output_type": "execute_result"
    }
   ],
   "source": [
    "rigid_img, *_ = dl_rigid_transform('./ED25_AV45.nii', rigid_model)\n",
    "nib.save(rigid_img, './rigid.nii')\n",
    "warped_img = warp('./rigid.nii', './template_pet.nii', affine_vm_model)\n",
    "pred_suvr = calc_suvr(warped_img, voi_ctx, wc_ref)\n",
    "get_centiloid(pred_suvr, 'av45')"
   ]
  }
 ],
 "metadata": {
  "kernelspec": {
   "display_name": "base",
   "language": "python",
   "name": "python3"
  },
  "language_info": {
   "codemirror_mode": {
    "name": "ipython",
    "version": 3
   },
   "file_extension": ".py",
   "mimetype": "text/x-python",
   "name": "python",
   "nbconvert_exporter": "python",
   "pygments_lexer": "ipython3",
   "version": "3.10.14"
  }
 },
 "nbformat": 4,
 "nbformat_minor": 2
}
